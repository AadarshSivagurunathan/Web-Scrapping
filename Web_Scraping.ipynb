{
 "cells": [
  {
   "cell_type": "code",
   "execution_count": 1,
   "metadata": {},
   "outputs": [],
   "source": [
    "import requests\n",
    "from bs4 import BeautifulSoup\n",
    "import csv"
   ]
  },
  {
   "cell_type": "code",
   "execution_count": 2,
   "metadata": {},
   "outputs": [
    {
     "name": "stdout",
     "output_type": "stream",
     "text": [
      "Successfully fetched the webpage!\n"
     ]
    }
   ],
   "source": [
    "# Step 1: Send HTTP request to fetch the webpage\n",
    "url = 'https://coinmarketcap.com/trending-cryptocurrencies/'\n",
    "response = requests.get(url)\n",
    "\n",
    "# Check if the request was successful\n",
    "if response.status_code == 200:\n",
    "    print(\"Successfully fetched the webpage!\")\n",
    "else:\n",
    "    print(f\"Failed to fetch webpage. Status code: {response.status_code}\")\n",
    "    exit()"
   ]
  },
  {
   "cell_type": "code",
   "execution_count": 3,
   "metadata": {},
   "outputs": [],
   "source": [
    "# Step 2: Parse the HTML content using BeautifulSoup\n",
    "soup = BeautifulSoup(response.text, 'html.parser')"
   ]
  },
  {
   "cell_type": "code",
   "execution_count": 4,
   "metadata": {},
   "outputs": [
    {
     "name": "stdout",
     "output_type": "stream",
     "text": [
      "1Simon's Cat1CAT$0.000034994.53%21.42%164.53%$236,189,154$71,737,280\n",
      "2Hooked Protocol2HOOK$0.42980.96%7.84%3.11%$80,217,913$9,178,041\n",
      "3DOGS3DOGS$0.0010731.88%6.19%32.80%$554,292,351$211,873,534\n",
      "4Aevo4AEVO$0.34470.34%4.99%3.71%$300,289,998$15,772,743\n",
      "5Bitcoin5BTC$60,024.020.36%10.33%3.24%$1,185,739,944,496$13,057,701,733\n",
      "6Cate6CATE$0.046217.26%524.92%524.92%$46,195,814$26,029,399\n",
      "7AI Companions7AIC$0.064063.90%257.18%257.18%$64,059,768$5,095,345\n",
      "8Sharpe AI8SAI$0.0299915.17%7.65%48.29%$2,899,414$1,958,382\n",
      "9Layer39L3$0.044621.56%4.98%21.00%$16,491,969$3,549,823\n",
      "10Toncoin10TON$5.641.08%19.16%12.90%$14,276,704,503$199,102,339\n",
      "11Solana11SOL$135.531.19%4.45%3.63%$63,458,223,227$820,342,664\n",
      "12XRP12XRP$0.58530.68%10.67%3.82%$33,000,398,011$925,076,419\n",
      "13Nervos Network13CKB$0.0169921.84%113.35%121.49%$763,750,860$547,904,588\n",
      "14TerraClassicUSD14USTC$0.017953.93%14.60%19.30%$104,803,899$25,304,168\n",
      "15POL (ex-MATIC)15POL$0.40011.79%6.54%0.43%$2,846,489,052$55,095,277\n",
      "16Sleepless AI16AI$0.3990.07%9.18%9.00%$86,788,525$9,003,179\n",
      "17Sui17SUI$1.097.66%14.81%32.61%$2,927,492,513$398,010,455\n",
      "18Amp18AMP$0.0038050.22%4.30%5.83%$307,132,892$4,747,655\n",
      "19Sun (New)19SUN$0.023921.20%9.72%134.99%$238,079,194$44,347,857\n",
      "20The Graph20GRT$0.14741.29%9.28%8.57%$1,407,332,314$23,621,680\n",
      "21Open Campus21EDU$0.61582.60%17.08%25.63%$203,102,314$4,267,206\n",
      "22Qtum22QTUM$2.282.56%6.57%3.21%$239,845,384$29,057,503\n",
      "23Polymesh23POLYX$0.22430.30%8.09%10.84%$196,787,220$5,183,146\n",
      "24USDD24USDD$0.99790.13%0.02%0.03%$731,650,088$2,113,028\n",
      "25Aptos25APT$6.130.53%3.05%1.61%$3,059,382,351$58,647,079\n",
      "26Aragon26ANT$5.843.94%0.97%19.98%$252,102,028$814,413\n",
      "27Basic Attention Token27BAT$0.1740.94%9.86%9.10%$260,288,352$5,772,854\n",
      "28Manta Network28MANTA$0.70020.15%6.61%4.62%$265,408,864$10,047,647\n",
      "29BNB29BNB$556.490.73%11.14%7.97%$81,210,878,629$1,365,720,070\n",
      "30Core30CORE$0.94221.32%7.27%4.48%$857,158,912$27,800,939\n",
      "31dYdX (ethDYDX)31ETHDYDX$0.91560.42%4.70%10.49%$201,582,396$8,156,704\n",
      "32Gravity32G$0.03682.68%11.02%2.44%$266,197,238$24,133,052\n",
      "33Ankr33ANKR$0.025420.37%14.41%3.08%$254,221,485$5,537,782\n",
      "34EOS34EOS$0.49520.58%6.15%2.70%$750,068,528$32,557,388\n",
      "35Conflux35CFX$0.13753.02%6.36%5.69%$609,149,321$20,568,146\n",
      "36Memecoin36MEME$0.01011.54%10.34%1.07%$265,985,574$15,733,236\n",
      "37Tether Gold37XAUt$2,579.700.10%3.25%4.25%$635,957,712$3,587,931\n",
      "38Zilliqa38ZIL$0.013780.78%6.06%4.83%$257,676,784$9,338,163\n",
      "39PayPal USD39PYUSD$0.99940.00%0.04%0.02%$771,628,762$18,935,653\n",
      "40Cosmos40ATOM$4.231.09%14.02%6.90%$1,654,749,489$55,676,378\n",
      "41Avalanche41AVAX$24.670.28%7.13%22.48%$10,012,944,739$190,881,516\n",
      "42Synthetix42SNX$1.430.65%11.97%8.61%$467,781,943$10,957,280\n",
      "43JUST43JST$0.02820.27%0.25%4.43%$279,150,357$10,619,134\n",
      "44Celestia44TIA$4.866.97%21.55%5.78%$1,024,344,250$110,301,796\n",
      "45LayerZero45ZRO$3.860.30%15.39%18.70%$424,122,304$53,432,289\n",
      "46ConstitutionDAO46PEOPLE$0.05861.18%12.92%20.76%$296,547,906$67,208,594\n",
      "47Bittensor47TAO$323.292.93%33.79%20.64%$2,386,183,750$59,897,019\n",
      "48Kava48KAVA$0.31161.45%8.77%0.33%$337,371,231$8,820,494\n",
      "49APENFT49NFT$0.0641231.20%7.97%5.19%$412,310,056$12,321,357\n",
      "50Quant50QNT$74.960.08%7.67%21.57%$904,975,005$6,734,322\n"
     ]
    }
   ],
   "source": [
    "# Step 3: Extract book details (title, price, rating)\n",
    "markets = soup.find_all('tr', style=\"cursor:pointer\")\n",
    "# Extract and print the text from each element\n",
    "for market in markets:\n",
    "    print(market.get_text())  # or market.text\n",
    "\n"
   ]
  },
  {
   "cell_type": "code",
   "execution_count": 5,
   "metadata": {},
   "outputs": [],
   "source": [
    "# Step 4: Prepare a list to hold extracted data\n",
    "market_data = []"
   ]
  },
  {
   "cell_type": "code",
   "execution_count": 6,
   "metadata": {},
   "outputs": [],
   "source": [
    "# Step 5: Loop through each market and extract details\n",
    "for market in markets:\n",
    "    # Extract the All data from a Row\n",
    "    columns = market.find_all('td')\n",
    "    # Extract the S.No\n",
    "    s_no = columns[1].get_text()\n",
    "    # Extract the Name --- Name is in the second <td> element\n",
    "    name = columns[2].get_text()  \n",
    "    # Extract the Price --- price is in the third <td> element  \n",
    "    price = columns[3].get_text()\n",
    "    # Extract the 24h Value --- 24h Value is in the fourth <td> element\n",
    "    per_day_value =columns[4].get_text()\n",
    "    # Extract the 7d Value --- 7d Value is in the fifth <td> element\n",
    "    per_week_value = columns[5].get_text()\n",
    "    # Extract the 30d Value --- 30d Value is in the sixth <td> element\n",
    "    per_month_value = columns[6].get_text()\n",
    "    # Extract the Market Captical --- Market Capital Value is in the seventh <td> element\n",
    "    mcap = columns[7].get_text()\n",
    "    # Extract the Volume --- Volume is in the eighth <td> element\n",
    "    per_day_volume = columns[8].get_text()\n",
    "\n",
    "\n",
    "    # Append extracted data to the list\n",
    "    market_data.append([s_no,name,price,per_day_value,per_week_value,per_month_value,mcap,per_day_volume])"
   ]
  },
  {
   "cell_type": "code",
   "execution_count": 7,
   "metadata": {},
   "outputs": [
    {
     "name": "stdout",
     "output_type": "stream",
     "text": [
      "Data successfully saved to markets_data_test.csv\n"
     ]
    }
   ],
   "source": [
    "# Step 6: Save the extracted data into a CSV file\n",
    "csv_file = 'markets_data_test.csv'\n",
    "\n",
    "# Open the CSV file in write mode\n",
    "with open(csv_file, mode='w', newline='', encoding='utf-8') as file:\n",
    "    writer = csv.writer(file)\n",
    "\n",
    "    # Write the header\n",
    "    writer.writerow(['S_No','Name','Price','24h','7d','30d','Market Cap','Volume'])\n",
    "\n",
    "    # Write the data\n",
    "    writer.writerows(market_data)\n",
    "\n",
    "print(f\"Data successfully saved to {csv_file}\")"
   ]
  }
 ],
 "metadata": {
  "kernelspec": {
   "display_name": "Python 3",
   "language": "python",
   "name": "python3"
  },
  "language_info": {
   "codemirror_mode": {
    "name": "ipython",
    "version": 3
   },
   "file_extension": ".py",
   "mimetype": "text/x-python",
   "name": "python",
   "nbconvert_exporter": "python",
   "pygments_lexer": "ipython3",
   "version": "3.12.6"
  }
 },
 "nbformat": 4,
 "nbformat_minor": 2
}
